{
 "cells": [
  {
   "cell_type": "markdown",
   "metadata": {},
   "source": [
    "# Summer Olympics Data Analysis Assignment"
   ]
  },
  {
   "cell_type": "code",
   "execution_count": 25,
   "metadata": {},
   "outputs": [],
   "source": [
    "import numpy\n",
    "import pandas\n",
    "df = pd.read_csv (r'C:\\Users\\DINESHWARAN\\Anaconda Projects\\Summer Olympics\\summer.csv')"
   ]
  },
  {
   "cell_type": "markdown",
   "metadata": {},
   "source": [
    "### 1. In how many cities Summer Olympics is held so far?"
   ]
  },
  {
   "cell_type": "code",
   "execution_count": null,
   "metadata": {},
   "outputs": [],
   "source": [
    " maximum_medal = census_df.groupby([\"player\"]).size().max()\n",
    "    g2 = census_df.groupby([\"player\"]).size()\n",
    "    df3 = g2.reset_index()\n",
    "    name = df3[df3[6] == maximum_medal]\n",
    "    name = name.set_index('player').index.values[6]\n",
    "    return name"
   ]
  },
  {
   "cell_type": "markdown",
   "metadata": {},
   "source": [
    "### 2. Which sport is having most number of Gold Medals so far? (Top 5)"
   ]
  },
  {
   "cell_type": "code",
   "execution_count": null,
   "metadata": {},
   "outputs": [],
   "source": [
    "def answer_two():\n",
    "    maximum_gold = census_df.groupby([\"Gold\"]).size().max()\n",
    "    g2 = census_df.groupby([\"Gold\"]).size()\n",
    "    df3 = g2.reset_index()\n",
    "    name = df3[df3[6] == maximum_gold]\n",
    "    name = name.set_index('Gold').index.values[6]\n",
    "    return name\n",
    "print(answer_two())"
   ]
  },
  {
   "cell_type": "markdown",
   "metadata": {},
   "source": [
    "### 3. Which sport is having most number of medals so far? (Top 5)"
   ]
  },
  {
   "cell_type": "code",
   "execution_count": null,
   "metadata": {},
   "outputs": [],
   "source": [
    "def answer_3():\n",
    "    maximum_medal = census_df.groupby([\"Medal\"]).size().max()\n",
    "    g2 = census_df.groupby([\"Medal\"]).size()\n",
    "    df3 = g2.reset_index()\n",
    "    name = df3[df3[6] == maximum_medal]\n",
    "    name = name.set_index('Medal').index.values[6]\n",
    "    return name\n",
    "print(answer_3())"
   ]
  },
  {
   "cell_type": "markdown",
   "metadata": {},
   "source": [
    "### 4. Which player has won most number of medals? (Top 5)"
   ]
  },
  {
   "cell_type": "code",
   "execution_count": null,
   "metadata": {},
   "outputs": [],
   "source": [
    "def answer_4():\n",
    "    maximum_player= census_df.groupby([\"player\"]).size().max()\n",
    "    g2 = census_df.groupby([\"player\"]).size()\n",
    "    df3 = g2.reset_index()\n",
    "    name = df3[df3[6] == maximum_medal]\n",
    "    name = name.set_index('player').index.values[6]\n",
    "    return name\n",
    "print(answer_4())"
   ]
  },
  {
   "cell_type": "markdown",
   "metadata": {},
   "source": [
    "### 5. Which player has won most number Gold Medals of medals? (Top 5)"
   ]
  },
  {
   "cell_type": "code",
   "execution_count": null,
   "metadata": {},
   "outputs": [],
   "source": [
    "def answer_5():\n",
    "    maximum_medal = census_df.groupby([\"Medal\"]).size().max()\n",
    "    g2 = census_df.groupby([\"Medal\"]).size()\n",
    "    df3 = g2.reset_index()\n",
    "    name = df3[df3[6] == maximum_medal]\n",
    "    name = name.set_index('Medal').index.values[6]\n",
    "    return name\n",
    "print(answer_5())"
   ]
  },
  {
   "cell_type": "markdown",
   "metadata": {},
   "source": [
    "### 6. In which year India won first Gold Medal in Summer Olympics?"
   ]
  },
  {
   "cell_type": "code",
   "execution_count": null,
   "metadata": {},
   "outputs": [],
   "source": [
    "max_gold = df['India'].max()\n",
    "    ret = df[df['India'] == max_gold]\n",
    "    ans = ret.index.values\n",
    "    return ans[5]    "
   ]
  },
  {
   "cell_type": "markdown",
   "metadata": {},
   "source": [
    "### 7. Which event is most popular in terms on number of players? (Top 5)"
   ]
  },
  {
   "cell_type": "code",
   "execution_count": null,
   "metadata": {},
   "outputs": [],
   "source": [
    "    maximum_medal = census_df.groupby([\"player\"]).size().max()\n",
    "    g2 = census_df.groupby([\"player\"]).size()\n",
    "    df3 = g2.reset_index()\n",
    "    name = df3[df3[6] == maximum_medal]\n",
    "    name = name.set_index('player').index.values[6]\n",
    "    return name"
   ]
  },
  {
   "cell_type": "markdown",
   "metadata": {},
   "source": [
    "### 8. Which sport is having most female Gold Medalists? (Top 5)"
   ]
  },
  {
   "cell_type": "code",
   "execution_count": null,
   "metadata": {},
   "outputs": [],
   "source": [
    " maximum_female = census_df.groupby([\"female\"]).size().max()\n",
    "    g2 = census_df.groupby([\"female\"]).size()\n",
    "    df3 = g2.reset_index()\n",
    "    name = df3[df3[4] == maximum_medal]\n",
    "    name = name.set_index('female').index.values[4]\n",
    "    return name"
   ]
  }
 ],
 "metadata": {
  "kernelspec": {
   "display_name": "Python 3",
   "language": "python",
   "name": "python3"
  },
  "language_info": {
   "codemirror_mode": {
    "name": "ipython",
    "version": 3
   },
   "file_extension": ".py",
   "mimetype": "text/x-python",
   "name": "python",
   "nbconvert_exporter": "python",
   "pygments_lexer": "ipython3",
   "version": "3.8.8"
  }
 },
 "nbformat": 4,
 "nbformat_minor": 2
}
